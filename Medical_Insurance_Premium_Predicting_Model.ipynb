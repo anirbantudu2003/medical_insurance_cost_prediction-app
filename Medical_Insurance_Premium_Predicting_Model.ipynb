{
 "cells": [
  {
   "cell_type": "code",
   "execution_count": null,
   "id": "a6cf8333-86da-493c-a13f-cd5791488fd6",
   "metadata": {},
   "outputs": [],
   "source": [
    "#importing Necessary Libraries\n",
    "\n",
    "import numpy as np\n",
    "import pandas as pd\n",
    "import matplotlib.pyplot as plt\n",
    "import seaborn as sns\n",
    "from sklearn.model_selection import train_test_split\n",
    "from sklearn.ensemble import RandomForestRegressor"
   ]
  },
  {
   "cell_type": "code",
   "execution_count": null,
   "id": "d8e6ac91-4aaa-48fb-a084-5e309c04da66",
   "metadata": {},
   "outputs": [],
   "source": [
    "insurance_data = pd.read_csv('insurance.csv')"
   ]
  },
  {
   "cell_type": "code",
   "execution_count": null,
   "id": "cbb37780-02d8-4b4d-b26e-32c569129735",
   "metadata": {},
   "outputs": [],
   "source": [
    "insurance_data.head()"
   ]
  },
  {
   "cell_type": "code",
   "execution_count": null,
   "id": "74c92d94-8930-4471-942c-3238527131e4",
   "metadata": {},
   "outputs": [],
   "source": [
    "insurance_data.info()"
   ]
  },
  {
   "cell_type": "code",
   "execution_count": null,
   "id": "a1af9e44-97d9-4b88-abaa-b2a954d380f8",
   "metadata": {},
   "outputs": [],
   "source": [
    "insurance_data.describe()"
   ]
  },
  {
   "cell_type": "code",
   "execution_count": null,
   "id": "bc8a534e-b7f8-4600-bcf2-7ff2e35bad01",
   "metadata": {},
   "outputs": [],
   "source": [
    "insurance_data.shape"
   ]
  },
  {
   "cell_type": "code",
   "execution_count": null,
   "id": "7a6bd775-1151-4382-93e7-a1af8f9be41c",
   "metadata": {},
   "outputs": [],
   "source": [
    "insurance_data.isnull().sum()"
   ]
  },
  {
   "cell_type": "code",
   "execution_count": null,
   "id": "70468b97-96bc-4ab1-ba21-2b474fb48508",
   "metadata": {},
   "outputs": [],
   "source": [
    "#Data Distribution for Numerical Column - Age\n",
    "sns.set()\n",
    "plt.figure(figsize=(6,6))\n",
    "sns.displot(insurance_data['age'])\n",
    "plt.show()"
   ]
  },
  {
   "cell_type": "code",
   "execution_count": null,
   "id": "bb2caaa2-2a06-491e-b892-5c8ceed7e791",
   "metadata": {},
   "outputs": [],
   "source": [
    "insurance_data['age'].value_counts()"
   ]
  },
  {
   "cell_type": "code",
   "execution_count": null,
   "id": "4862363d-ea8c-4e2a-a6dd-f0af6fd22672",
   "metadata": {},
   "outputs": [],
   "source": [
    "#Data Distribution for Numerical Column - BMI\n",
    "sns.set()\n",
    "plt.figure(figsize=(6,6))\n",
    "sns.displot(insurance_data['bmi'])\n",
    "plt.show()"
   ]
  },
  {
   "cell_type": "code",
   "execution_count": null,
   "id": "ac12a357-cef8-4013-8557-0a72506d7cbb",
   "metadata": {},
   "outputs": [],
   "source": [
    "#Data Distribution for Numerical Column - children\n",
    "sns.set()\n",
    "plt.figure(figsize=(6,6))\n",
    "sns.displot(insurance_data['children'])\n",
    "plt.show()"
   ]
  },
  {
   "cell_type": "code",
   "execution_count": null,
   "id": "54eb653f-3e2d-405a-8608-99c706bc948b",
   "metadata": {},
   "outputs": [],
   "source": [
    "#Column charts for Categorical Column - sex\n",
    "sns.set()\n",
    "plt.figure(figsize=(6,6))\n",
    "sns.countplot(x= insurance_data['sex'], data = insurance_data)\n",
    "plt.show()"
   ]
  },
  {
   "cell_type": "code",
   "execution_count": null,
   "id": "0d8344d0-5dca-4960-b6f1-b654ffbae566",
   "metadata": {},
   "outputs": [],
   "source": [
    "insurance_data['sex'].value_counts()"
   ]
  },
  {
   "cell_type": "code",
   "execution_count": null,
   "id": "f1e9b81d-54b1-4ff1-bc61-678d8cf70472",
   "metadata": {},
   "outputs": [],
   "source": [
    "#Column charts for Categorical Column - smoker\n",
    "sns.set()\n",
    "plt.figure(figsize=(6,6))\n",
    "sns.countplot(x= insurance_data['smoker'], data = insurance_data)\n",
    "plt.show()"
   ]
  },
  {
   "cell_type": "code",
   "execution_count": null,
   "id": "9126a680-c803-47b5-9a11-8a439a14de94",
   "metadata": {},
   "outputs": [],
   "source": [
    "#Column charts for Categorical Column - region\n",
    "sns.set()\n",
    "plt.figure(figsize=(6,6))\n",
    "sns.countplot(x= insurance_data['region'], data = insurance_data)\n",
    "plt.show()"
   ]
  },
  {
   "cell_type": "code",
   "execution_count": null,
   "id": "c983ca1a-4e7f-4cf7-a981-49fc6ace6210",
   "metadata": {},
   "outputs": [],
   "source": [
    "insurance_data['region'].value_counts()"
   ]
  },
  {
   "cell_type": "code",
   "execution_count": null,
   "id": "aa3b94c2-ace6-4965-8e43-d5447749c0a0",
   "metadata": {},
   "outputs": [],
   "source": [
    "insurance_data"
   ]
  },
  {
   "cell_type": "code",
   "execution_count": null,
   "id": "b71ca44b-7a60-4353-9394-1709490f9d7a",
   "metadata": {},
   "outputs": [],
   "source": [
    "#Converting Categorical Columns into Numerical Columns\n",
    "\n",
    "insurance_data.replace({'sex':{'female':0, 'male':1}}, inplace=True)\n",
    "\n",
    "insurance_data.replace({'smoker':{'no':0, 'yes':1}}, inplace=True)\n",
    "\n",
    "insurance_data.replace({'region':{'southeast':0, 'southwest':1, 'northeast':2, 'northwest':3}}, inplace=True)"
   ]
  },
  {
   "cell_type": "code",
   "execution_count": null,
   "id": "f4f96b89-3881-4e2e-bd04-398cf9b970db",
   "metadata": {},
   "outputs": [],
   "source": [
    "insurance_data"
   ]
  },
  {
   "cell_type": "code",
   "execution_count": null,
   "id": "e6112086-1294-4555-b62b-7dc7d2ac297c",
   "metadata": {},
   "outputs": [],
   "source": [
    "input_data = insurance_data.drop(columns='charges')\n",
    "output_data = insurance_data['charges']"
   ]
  },
  {
   "cell_type": "code",
   "execution_count": null,
   "id": "68c52f57-ab22-4644-a40f-f8b62a7b5dca",
   "metadata": {},
   "outputs": [],
   "source": [
    "input_data"
   ]
  },
  {
   "cell_type": "code",
   "execution_count": null,
   "id": "3d01f826-ec54-4fc6-8de4-ee9a9c9c4831",
   "metadata": {},
   "outputs": [],
   "source": [
    "output_data"
   ]
  },
  {
   "cell_type": "code",
   "execution_count": null,
   "id": "cad86361-d7a1-4db5-a876-a5e9b1fb086c",
   "metadata": {},
   "outputs": [],
   "source": [
    "input_train_data, input_test_data, output_train_data, output_test_data = train_test_split(input_data, output_data, test_size=0.2)"
   ]
  },
  {
   "cell_type": "code",
   "execution_count": null,
   "id": "07c9f8a8-8f65-4a47-be19-4bf2400b2a92",
   "metadata": {},
   "outputs": [],
   "source": [
    "print(input_data.shape, input_train_data.shape, input_test_data.shape)"
   ]
  },
  {
   "cell_type": "code",
   "execution_count": null,
   "id": "8a2f7acd-2719-4380-bb21-005befb85cbd",
   "metadata": {},
   "outputs": [],
   "source": [
    "print(output_data.shape, output_train_data.shape, output_test_data.shape)"
   ]
  },
  {
   "cell_type": "code",
   "execution_count": null,
   "id": "74edc331-8774-4e50-a0cc-8aaf2d96aa1d",
   "metadata": {},
   "outputs": [],
   "source": [
    "#Model Creation \n",
    "\n",
    "model = RandomForestRegressor(n_estimators=100, max_depth=7)"
   ]
  },
  {
   "cell_type": "code",
   "execution_count": null,
   "id": "a291a8da-b633-44e8-a386-2fa047e8dc5b",
   "metadata": {},
   "outputs": [],
   "source": [
    "#Training Model\n",
    "\n",
    "model.fit(input_train_data, output_train_data)"
   ]
  },
  {
   "cell_type": "code",
   "execution_count": null,
   "id": "2cf32cc5-f4c3-4fca-9a08-b9711dde4908",
   "metadata": {},
   "outputs": [],
   "source": [
    "#predicting values with Test Dataset\n",
    "\n",
    "test_data_predictions = model.predict(input_test_data) "
   ]
  },
  {
   "cell_type": "code",
   "execution_count": null,
   "id": "142bbcd2-5161-4cbf-8072-509a5768f734",
   "metadata": {},
   "outputs": [],
   "source": [
    "#Evaluating Model\n",
    "\n",
    "from sklearn.metrics import r2_score"
   ]
  },
  {
   "cell_type": "code",
   "execution_count": null,
   "id": "7b3f83ec-bd2d-4a4a-8a48-3686ed4b1161",
   "metadata": {},
   "outputs": [],
   "source": [
    "r2_score(test_data_predictions,output_test_data)"
   ]
  },
  {
   "cell_type": "code",
   "execution_count": null,
   "id": "0806155f-fcd3-46a0-8e03-618ea8edc702",
   "metadata": {},
   "outputs": [],
   "source": [
    "#age\tsex\tbmi\tchildren\tsmoker\tregion\n",
    "input_data = (35, 1,35, 1, 0, 0)\n",
    "input_data_array = np.asarray(input_data)\n",
    "input_data_array = input_data_array.reshape(1,-1)"
   ]
  },
  {
   "cell_type": "code",
   "execution_count": null,
   "id": "704f1660-fec1-49e4-b048-193913d886d0",
   "metadata": {},
   "outputs": [],
   "source": [
    "insurance_premium = model.predict(input_data_array)"
   ]
  },
  {
   "cell_type": "code",
   "execution_count": null,
   "id": "a0dafde2-b747-4af8-ab00-a6eb186843ad",
   "metadata": {},
   "outputs": [],
   "source": [
    "insurance_premium[0]"
   ]
  },
  {
   "cell_type": "code",
   "execution_count": null,
   "id": "863024db-6346-407c-a99e-cf69c0ad45a3",
   "metadata": {},
   "outputs": [],
   "source": [
    "import pickle as pkl"
   ]
  },
  {
   "cell_type": "code",
   "execution_count": null,
   "id": "b5a70a38-8eaf-4053-a4f6-665c901875f1",
   "metadata": {},
   "outputs": [],
   "source": [
    "pkl.dump(model, open('MIPML.pkl','wb'))"
   ]
  },
  {
   "cell_type": "code",
   "execution_count": null,
   "id": "033aaf25-51a4-42a0-b410-b05f4527f2f3",
   "metadata": {},
   "outputs": [],
   "source": []
  }
 ],
 "metadata": {
  "kernelspec": {
   "display_name": "Python 3",
   "language": "python",
   "name": "python3"
  },
  "language_info": {
   "codemirror_mode": {
    "name": "ipython",
    "version": 3
   },
   "file_extension": ".py",
   "mimetype": "text/x-python",
   "name": "python",
   "nbconvert_exporter": "python",
   "pygments_lexer": "ipython3",
   "version": "3.13.7"
  }
 },
 "nbformat": 4,
 "nbformat_minor": 5
}
